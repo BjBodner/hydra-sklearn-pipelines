{
 "cells": [
  {
   "cell_type": "code",
   "execution_count": 4,
   "metadata": {},
   "outputs": [],
   "source": [
    "import hydra\n",
    "from omegaconf import DictConfig\n",
    "from sklearn.pipeline import Pipeline"
   ]
  },
  {
   "cell_type": "markdown",
   "metadata": {},
   "source": [
    "# Simple pipeline using only builtin steps"
   ]
  },
  {
   "cell_type": "code",
   "execution_count": 5,
   "metadata": {},
   "outputs": [],
   "source": [
    "from sklearn.feature_selection import VarianceThreshold\n",
    "from sklearn.impute import SimpleImputer\n",
    "from sklearn.pipeline import Pipeline\n",
    "from sklearn.preprocessing import StandardScaler\n",
    "\n",
    "num_pipeline = Pipeline(\n",
    "    [\n",
    "        (\"imputer\", SimpleImputer(strategy=\"constant\", fill_value=\"-1\")),\n",
    "        (\"VarianceThreshold\", VarianceThreshold(threshold=0.1)),\n",
    "        (\"scaler\", StandardScaler()),\n",
    "    ]\n",
    ")"
   ]
  },
  {
   "cell_type": "markdown",
   "metadata": {},
   "source": [
    "### Sometimes we want to examine different preprocessing pipelines with different order, steps, hyperparams etc."
   ]
  },
  {
   "cell_type": "code",
   "execution_count": 7,
   "metadata": {},
   "outputs": [],
   "source": [
    "from sklearn.decomposition import PCA\n",
    "from sklearn.ensemble import RandomForestClassifier\n",
    "from sklearn.linear_model import LogisticRegression\n",
    "from sklearn.tree import DecisionTreeClassifier\n",
    "\n",
    "pipeline_lr = Pipeline(\n",
    "    [\n",
    "        (\"imputer\", SimpleImputer(strategy=\"constant\", fill_value=\"-1\")),\n",
    "        (\"VarianceThreshold\", VarianceThreshold(threshold=0.1)),\n",
    "        (\"scalar1\", StandardScaler()),\n",
    "        (\"pca1\", PCA(n_components=2)),\n",
    "        (\"lr_classifier\", LogisticRegression(random_state=0)),\n",
    "    ]\n",
    ")\n",
    "\n",
    "\n",
    "pipeline_dt = Pipeline(\n",
    "    [\n",
    "        (\"scalar2\", StandardScaler()),\n",
    "        (\"VarianceThreshold\", VarianceThreshold(threshold=0.1)),\n",
    "        (\"imputer\", SimpleImputer(strategy=\"constant\", fill_value=\"-1\")),\n",
    "        (\"pca2\", PCA(n_components=2)),\n",
    "        (\"dt_classifier\", DecisionTreeClassifier()),\n",
    "    ]\n",
    ")\n",
    "\n",
    "pipeline_randomforest = Pipeline(\n",
    "    [\n",
    "        (\"scalar3\", StandardScaler()),\n",
    "        (\"pca3\", PCA(n_components=2)),\n",
    "        (\"rf_classifier\", RandomForestClassifier()),\n",
    "    ]\n",
    ")"
   ]
  },
  {
   "cell_type": "markdown",
   "metadata": {},
   "source": [
    "## Or maybe add your custom steps"
   ]
  },
  {
   "cell_type": "code",
   "execution_count": 4,
   "metadata": {},
   "outputs": [],
   "source": [
    "def make_hydra_pipeline(steps_config: DictConfig):\n",
    "\n",
    "    \"\"\"creates a pipeline with all the feature selectors/transformers inside, ordered in a sequential manner\n",
    "\n",
    "    Args:\n",
    "        steps_config (DictConfig): the config containing the instructions for\n",
    "                                    creating the feature selectors or transformers\n",
    "\n",
    "    Returns:\n",
    "        [sklearn.pipeline.Pipeline]: a pipeline with all the feature selectors/transformers inside,\n",
    "                                    in a sequential manner\n",
    "    \"\"\"\n",
    "    steps = []\n",
    "\n",
    "    for step_config in steps_config:\n",
    "\n",
    "        # retrieve the name and parameter dictionary of the current feature selector\n",
    "        step_name, step_params = step_config.items()[0]\n",
    "\n",
    "        # create the feature selector/transformer - the pipeline step, and append to the list of steps\n",
    "        pipeline_step = (step_name, hydra.utils.instantiate(step_params))\n",
    "        steps.append(pipeline_step)\n",
    "\n",
    "    return Pipeline(steps)"
   ]
  }
 ],
 "metadata": {
  "kernelspec": {
   "display_name": "Python [conda env:test2]",
   "language": "python",
   "name": "conda-env-test2-py"
  },
  "language_info": {
   "codemirror_mode": {
    "name": "ipython",
    "version": 3
   },
   "file_extension": ".py",
   "mimetype": "text/x-python",
   "name": "python",
   "nbconvert_exporter": "python",
   "pygments_lexer": "ipython3",
   "version": "3.8.10"
  }
 },
 "nbformat": 4,
 "nbformat_minor": 4
}
